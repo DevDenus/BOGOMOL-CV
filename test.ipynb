{
 "cells": [
  {
   "cell_type": "code",
   "execution_count": 1,
   "metadata": {},
   "outputs": [],
   "source": [
    "import numpy as np\n",
    "import pandas as pd"
   ]
  },
  {
   "cell_type": "code",
   "execution_count": 2,
   "metadata": {},
   "outputs": [
    {
     "data": {
      "text/html": [
       "<div>\n",
       "<style scoped>\n",
       "    .dataframe tbody tr th:only-of-type {\n",
       "        vertical-align: middle;\n",
       "    }\n",
       "\n",
       "    .dataframe tbody tr th {\n",
       "        vertical-align: top;\n",
       "    }\n",
       "\n",
       "    .dataframe thead th {\n",
       "        text-align: right;\n",
       "    }\n",
       "</style>\n",
       "<table border=\"1\" class=\"dataframe\">\n",
       "  <thead>\n",
       "    <tr style=\"text-align: right;\">\n",
       "      <th></th>\n",
       "      <th>sepal length (cm)</th>\n",
       "      <th>sepal width (cm)</th>\n",
       "      <th>petal length (cm)</th>\n",
       "      <th>petal width (cm)</th>\n",
       "      <th>target</th>\n",
       "    </tr>\n",
       "  </thead>\n",
       "  <tbody>\n",
       "    <tr>\n",
       "      <th>0</th>\n",
       "      <td>5.1</td>\n",
       "      <td>3.5</td>\n",
       "      <td>1.4</td>\n",
       "      <td>0.2</td>\n",
       "      <td>0</td>\n",
       "    </tr>\n",
       "    <tr>\n",
       "      <th>1</th>\n",
       "      <td>4.9</td>\n",
       "      <td>3.0</td>\n",
       "      <td>1.4</td>\n",
       "      <td>0.2</td>\n",
       "      <td>0</td>\n",
       "    </tr>\n",
       "    <tr>\n",
       "      <th>2</th>\n",
       "      <td>4.7</td>\n",
       "      <td>3.2</td>\n",
       "      <td>1.3</td>\n",
       "      <td>0.2</td>\n",
       "      <td>0</td>\n",
       "    </tr>\n",
       "    <tr>\n",
       "      <th>3</th>\n",
       "      <td>4.6</td>\n",
       "      <td>3.1</td>\n",
       "      <td>1.5</td>\n",
       "      <td>0.2</td>\n",
       "      <td>0</td>\n",
       "    </tr>\n",
       "    <tr>\n",
       "      <th>4</th>\n",
       "      <td>5.0</td>\n",
       "      <td>3.6</td>\n",
       "      <td>1.4</td>\n",
       "      <td>0.2</td>\n",
       "      <td>0</td>\n",
       "    </tr>\n",
       "  </tbody>\n",
       "</table>\n",
       "</div>"
      ],
      "text/plain": [
       "   sepal length (cm)  sepal width (cm)  petal length (cm)  petal width (cm)  \\\n",
       "0                5.1               3.5                1.4               0.2   \n",
       "1                4.9               3.0                1.4               0.2   \n",
       "2                4.7               3.2                1.3               0.2   \n",
       "3                4.6               3.1                1.5               0.2   \n",
       "4                5.0               3.6                1.4               0.2   \n",
       "\n",
       "   target  \n",
       "0       0  \n",
       "1       0  \n",
       "2       0  \n",
       "3       0  \n",
       "4       0  "
      ]
     },
     "execution_count": 2,
     "metadata": {},
     "output_type": "execute_result"
    }
   ],
   "source": [
    "from sklearn.datasets import load_iris\n",
    "\n",
    "data = load_iris(as_frame=True)\n",
    "dataset = data.frame\n",
    "targets = data.target_names\n",
    "dataset.head()"
   ]
  },
  {
   "cell_type": "code",
   "execution_count": 3,
   "metadata": {},
   "outputs": [
    {
     "data": {
      "text/plain": [
       "array(['setosa', 'versicolor', 'virginica'], dtype='<U10')"
      ]
     },
     "execution_count": 3,
     "metadata": {},
     "output_type": "execute_result"
    }
   ],
   "source": [
    "targets"
   ]
  },
  {
   "cell_type": "code",
   "execution_count": 4,
   "metadata": {},
   "outputs": [],
   "source": [
    "from sklearn.model_selection import train_test_split\n",
    "\n",
    "x_train, x_test, y_train, y_test = train_test_split(\n",
    "    np.array(dataset[dataset.columns.drop(['target'])]),\n",
    "    np.array(dataset['target']),\n",
    "    test_size = 0.2,\n",
    "    shuffle=True\n",
    ")"
   ]
  },
  {
   "cell_type": "code",
   "execution_count": 5,
   "metadata": {},
   "outputs": [],
   "source": [
    "from src.layers import BNormalizer\n",
    "\n",
    "normalizer = BNormalizer(4)\n",
    "normalizer.fit(x_train)\n",
    "\n",
    "\n",
    "x_train = normalizer.predict(x_train)\n",
    "x_test = normalizer.predict(x_test)"
   ]
  },
  {
   "cell_type": "code",
   "execution_count": 6,
   "metadata": {},
   "outputs": [],
   "source": [
    "def one_hot_encode(labels, num_classes):\n",
    "    # Создаем матрицу с нулями\n",
    "    one_hot_targets = np.zeros((len(labels), num_classes), dtype=int)\n",
    "    one_hot_targets[np.arange(len(labels)), labels] = 1\n",
    "    return one_hot_targets"
   ]
  },
  {
   "cell_type": "code",
   "execution_count": 7,
   "metadata": {},
   "outputs": [
    {
     "name": "stdout",
     "output_type": "stream",
     "text": [
      "(120, 3) (30, 3)\n"
     ]
    }
   ],
   "source": [
    "y_train, y_test = one_hot_encode(y_train, len(targets)), one_hot_encode(y_test, len(targets))\n",
    "\n",
    "print(y_train.shape, y_test.shape)"
   ]
  },
  {
   "cell_type": "code",
   "execution_count": 8,
   "metadata": {},
   "outputs": [],
   "source": [
    "from src.model import BModel\n",
    "from src.layers import BDenseLayer\n",
    "from src.loss_function import zero_one\n",
    "\n",
    "model = BModel([\n",
    "    BDenseLayer(x_train.shape[1], 64),\n",
    "    BDenseLayer(64, 128),\n",
    "    BDenseLayer(128, 128),\n",
    "    BDenseLayer(128, 128),\n",
    "    #BDenseLayer(128, 64),\n",
    "    #BDenseLayer(64, 32),\n",
    "    #BDenseLayer(32, 16),\n",
    "    BDenseLayer(128, 3)\n",
    "], zero_one)"
   ]
  },
  {
   "cell_type": "code",
   "execution_count": 9,
   "metadata": {},
   "outputs": [],
   "source": [
    "#from sklearn.neural_network import MLPClassifier\n",
    "\n",
    "#model = MLPClassifier((32, 64), batch_size=32)\n",
    "\n",
    "#model.fit(x_train, y_train)"
   ]
  },
  {
   "cell_type": "code",
   "execution_count": 10,
   "metadata": {},
   "outputs": [],
   "source": [
    "#model.score(x_test, y_test)"
   ]
  },
  {
   "cell_type": "code",
   "execution_count": 11,
   "metadata": {},
   "outputs": [],
   "source": [
    "y_test_1, y_test_2, y_test_3 = y_test[:, 0].reshape(-1, 1), y_test[:, 1].reshape(-1, 1), y_test[:, 2].reshape(-1, 1)\n",
    "\n",
    "y_train_1, y_train_2, y_train_3 = y_train[:, 0].reshape(-1, 1), y_train[:, 1].reshape(-1, 1), y_train[:, 2].reshape(-1, 1)"
   ]
  },
  {
   "cell_type": "code",
   "execution_count": 12,
   "metadata": {},
   "outputs": [
    {
     "name": "stdout",
     "output_type": "stream",
     "text": [
      "43 38 39\n"
     ]
    }
   ],
   "source": [
    "print(np.count_nonzero(y_train_1), np.count_nonzero(y_train_2), np.count_nonzero(y_train_3))\n",
    "EPOCHS = 100"
   ]
  },
  {
   "cell_type": "code",
   "execution_count": 13,
   "metadata": {},
   "outputs": [
    {
     "name": "stderr",
     "output_type": "stream",
     "text": [
      "epoch : 1 loss : inf: 8it [00:00, 11.33it/s]\n",
      "epoch : 2 loss : 0.375: 8it [00:00, 11.58it/s]\n",
      "epoch : 3 loss : 0.5833333333333334: 8it [00:00, 11.49it/s]\n",
      "epoch : 4 loss : 0.7083333333333334: 8it [00:00, 11.46it/s]\n",
      "epoch : 5 loss : 0.625: 8it [00:00, 11.47it/s]\n",
      "epoch : 6 loss : 0.4583333333333333: 8it [00:00, 11.56it/s]\n",
      "epoch : 7 loss : 0.5: 8it [00:00, 11.52it/s]\n",
      "epoch : 8 loss : 0.25: 8it [00:00, 11.50it/s]\n",
      "epoch : 9 loss : 0.4166666666666667: 8it [00:00, 11.26it/s]\n",
      "epoch : 10 loss : 0.4583333333333333: 8it [00:00, 11.54it/s]\n",
      "epoch : 11 loss : 0.5: 8it [00:00, 11.58it/s]\n",
      "epoch : 12 loss : 0.4166666666666667: 8it [00:00, 11.57it/s]\n",
      "epoch : 13 loss : 0.375: 8it [00:00, 11.55it/s]\n",
      "epoch : 14 loss : 0.625: 8it [00:00, 11.24it/s]\n",
      "epoch : 15 loss : 0.4166666666666667: 8it [00:00, 11.49it/s]\n",
      "epoch : 16 loss : 0.5416666666666666: 8it [00:00, 11.58it/s]\n",
      "epoch : 17 loss : 0.4166666666666667: 8it [00:00, 11.41it/s]\n",
      "epoch : 18 loss : 0.4583333333333333: 8it [00:00, 11.60it/s]\n",
      "epoch : 19 loss : 0.5416666666666666: 8it [00:00, 11.57it/s]\n",
      "epoch : 20 loss : 0.5416666666666666: 8it [00:00, 11.54it/s]\n",
      "epoch : 21 loss : 0.4166666666666667: 8it [00:00, 11.59it/s]\n",
      "epoch : 22 loss : 0.125: 8it [00:00, 11.55it/s]\n",
      "epoch : 23 loss : 0.20833333333333334: 8it [00:00, 11.54it/s]\n",
      "epoch : 24 loss : 0.5416666666666666: 8it [00:00, 11.50it/s]\n",
      "epoch : 25 loss : 0.2916666666666667: 8it [00:00, 11.60it/s]\n",
      "epoch : 26 loss : 0.3333333333333333: 8it [00:00, 11.05it/s]\n",
      "epoch : 27 loss : 0.375: 8it [00:00, 11.55it/s]\n",
      "epoch : 28 loss : 0.5: 8it [00:00, 11.50it/s]\n",
      "epoch : 29 loss : 0.25: 8it [00:00, 11.51it/s]\n",
      "epoch : 30 loss : 0.2916666666666667: 8it [00:00, 11.58it/s]\n",
      "epoch : 31 loss : 0.2916666666666667: 8it [00:00, 11.56it/s]\n",
      "epoch : 32 loss : 0.25: 8it [00:00, 11.55it/s]\n",
      "epoch : 33 loss : 0.16666666666666666: 8it [00:00, 11.55it/s]\n",
      "epoch : 34 loss : 0.25: 8it [00:00, 11.56it/s]\n",
      "epoch : 35 loss : 0.16666666666666666: 8it [00:00, 11.62it/s]\n",
      "epoch : 36 loss : 0.20833333333333334: 8it [00:00, 11.56it/s]\n",
      "epoch : 37 loss : 0.125: 8it [00:00, 11.61it/s]\n",
      "epoch : 38 loss : 0.20833333333333334: 8it [00:00, 11.63it/s]\n",
      "epoch : 39 loss : 0.25: 8it [00:00, 11.59it/s]\n",
      "epoch : 40 loss : 0.2916666666666667: 8it [00:00, 11.61it/s]\n",
      "epoch : 41 loss : 0.20833333333333334: 8it [00:00, 11.52it/s]\n",
      "epoch : 42 loss : 0.25: 8it [00:00, 11.54it/s]\n",
      "epoch : 43 loss : 0.25: 8it [00:00, 11.51it/s]\n",
      "epoch : 44 loss : 0.16666666666666666: 8it [00:00, 11.39it/s]\n",
      "epoch : 45 loss : 0.0: 8it [00:00, 11.55it/s]\n",
      "epoch : 46 loss : 0.20833333333333334: 8it [00:00, 11.64it/s]\n",
      "epoch : 47 loss : 0.16666666666666666: 8it [00:00, 11.61it/s]\n",
      "epoch : 48 loss : 0.20833333333333334: 8it [00:00, 11.61it/s]\n",
      "epoch : 49 loss : 0.20833333333333334: 8it [00:00, 11.56it/s]\n",
      "epoch : 50 loss : 0.16666666666666666: 8it [00:00, 11.53it/s]\n",
      "epoch : 51 loss : 0.20833333333333334: 8it [00:00, 11.61it/s]\n",
      "epoch : 52 loss : 0.125: 8it [00:00, 11.62it/s]\n",
      "epoch : 53 loss : 0.16666666666666666: 8it [00:00, 11.65it/s]\n",
      "epoch : 54 loss : 0.20833333333333334: 8it [00:00, 11.64it/s]\n",
      "epoch : 55 loss : 0.125: 8it [00:00, 11.63it/s]\n",
      "epoch : 56 loss : 0.2916666666666667: 8it [00:00, 11.62it/s]\n",
      "epoch : 57 loss : 0.16666666666666666: 8it [00:00, 11.62it/s]\n",
      "epoch : 58 loss : 0.4166666666666667: 8it [00:00, 11.61it/s]\n",
      "epoch : 59 loss : 0.25: 8it [00:00, 11.55it/s]\n",
      "epoch : 60 loss : 0.25: 8it [00:00, 11.82it/s]\n",
      "epoch : 61 loss : 0.3333333333333333: 8it [00:00, 11.76it/s]\n",
      "epoch : 62 loss : 0.20833333333333334: 8it [00:00, 11.86it/s]\n",
      "epoch : 63 loss : 0.3333333333333333: 8it [00:00, 11.85it/s]\n",
      "epoch : 64 loss : 0.16666666666666666: 8it [00:00, 11.79it/s]\n",
      "epoch : 65 loss : 0.125: 8it [00:00, 11.75it/s]\n",
      "epoch : 66 loss : 0.20833333333333334: 8it [00:00, 11.91it/s]\n",
      "epoch : 67 loss : 0.25: 8it [00:00, 11.90it/s]\n",
      "epoch : 68 loss : 0.20833333333333334: 8it [00:00, 11.88it/s]\n",
      "epoch : 69 loss : 0.2916666666666667: 8it [00:00, 11.90it/s]\n",
      "epoch : 70 loss : 0.16666666666666666: 8it [00:00, 11.97it/s]\n",
      "epoch : 71 loss : 0.20833333333333334: 8it [00:00, 11.96it/s]\n",
      "epoch : 72 loss : 0.16666666666666666: 8it [00:00, 11.95it/s]\n",
      "epoch : 73 loss : 0.2916666666666667: 8it [00:00, 11.85it/s]\n",
      "epoch : 74 loss : 0.25: 8it [00:00, 11.74it/s]\n",
      "epoch : 75 loss : 0.16666666666666666: 8it [00:00, 11.97it/s]\n",
      "epoch : 76 loss : 0.125: 8it [00:00, 11.90it/s]\n",
      "epoch : 77 loss : 0.25: 8it [00:00, 11.98it/s]\n",
      "epoch : 78 loss : 0.16666666666666666: 8it [00:00, 11.96it/s]\n",
      "epoch : 79 loss : 0.08333333333333333: 8it [00:00, 11.93it/s]\n",
      "epoch : 80 loss : 0.16666666666666666: 8it [00:00, 11.59it/s]\n",
      "epoch : 81 loss : 0.25: 8it [00:00, 11.53it/s]\n",
      "epoch : 82 loss : 0.16666666666666666: 8it [00:00, 11.55it/s]\n",
      "epoch : 83 loss : 0.2916666666666667: 8it [00:00, 11.58it/s]\n",
      "epoch : 84 loss : 0.16666666666666666: 8it [00:00, 11.62it/s]\n",
      "epoch : 85 loss : 0.25: 8it [00:00, 11.62it/s]\n",
      "epoch : 86 loss : 0.25: 8it [00:00, 11.66it/s]\n",
      "epoch : 87 loss : 0.125: 8it [00:00, 11.74it/s]\n",
      "epoch : 88 loss : 0.20833333333333334: 8it [00:00, 11.62it/s]\n",
      "epoch : 89 loss : 0.20833333333333334: 8it [00:00, 11.59it/s]\n",
      "epoch : 90 loss : 0.20833333333333334: 8it [00:00, 11.89it/s]\n",
      "epoch : 91 loss : 0.25: 8it [00:00, 11.80it/s]\n",
      "epoch : 92 loss : 0.2916666666666667: 8it [00:00, 11.71it/s]\n",
      "epoch : 93 loss : 0.125: 8it [00:00, 11.73it/s]\n",
      "epoch : 94 loss : 0.3333333333333333: 8it [00:00, 11.65it/s]\n",
      "epoch : 95 loss : 0.08333333333333333: 8it [00:00, 11.52it/s]\n",
      "epoch : 96 loss : 0.25: 8it [00:00, 11.74it/s]\n",
      "epoch : 97 loss : 0.16666666666666666: 8it [00:00, 11.79it/s]\n",
      "epoch : 98 loss : 0.25: 8it [00:00, 11.71it/s]\n",
      "epoch : 99 loss : 0.20833333333333334: 8it [00:00, 11.71it/s]\n",
      "epoch : 100 loss : 0.125: 8it [00:00, 11.77it/s]\n"
     ]
    }
   ],
   "source": [
    "hist = model.fit(x_train, y_train, batch_size=16, meta_parameter_size=16, epochs=EPOCHS)"
   ]
  },
  {
   "cell_type": "code",
   "execution_count": 14,
   "metadata": {},
   "outputs": [
    {
     "data": {
      "text/plain": [
       "[<matplotlib.lines.Line2D at 0x74051c9c7440>]"
      ]
     },
     "execution_count": 14,
     "metadata": {},
     "output_type": "execute_result"
    },
    {
     "data": {
      "image/png": "[encoded data removed]",
      "text/plain": [
       "<Figure size 640x480 with 1 Axes>"
      ]
     },
     "metadata": {},
     "output_type": "display_data"
    }
   ],
   "source": [
    "import matplotlib.pyplot as plt\n",
    "\n",
    "plt.plot(hist['loss'])"
   ]
  },
  {
   "cell_type": "code",
   "execution_count": 15,
   "metadata": {},
   "outputs": [
    {
     "name": "stdout",
     "output_type": "stream",
     "text": [
      "0.0 0.2916666666666667\n"
     ]
    }
   ],
   "source": [
    "print(min(hist['loss']), hist['loss'][-1])"
   ]
  },
  {
   "cell_type": "code",
   "execution_count": 16,
   "metadata": {},
   "outputs": [
    {
     "data": {
      "text/plain": [
       "np.float64(0.45555555555555555)"
      ]
     },
     "execution_count": 16,
     "metadata": {},
     "output_type": "execute_result"
    }
   ],
   "source": [
    "zero_one(model.predict(x_test), y_test)"
   ]
  },
  {
   "cell_type": "code",
   "execution_count": 17,
   "metadata": {},
   "outputs": [
    {
     "name": "stdout",
     "output_type": "stream",
     "text": [
      "[[ 0  0  0  0]\n",
      " [ 1  0  0  1]\n",
      " [-1  1  0  0]\n",
      " [ 0  0  0  0]\n",
      " [ 1  0 -1  0]\n",
      " [-1  1  0  0]\n",
      " [ 1  0  0  1]\n",
      " [ 1  1 -1  1]\n",
      " [-1  1  0  0]\n",
      " [ 0  0  1  1]\n",
      " [ 0  0  0  0]\n",
      " [ 1  1 -1  1]\n",
      " [-1  1  0  0]\n",
      " [ 0  1 -1  0]\n",
      " [-1  1  0  0]\n",
      " [ 0  1 -1  0]\n",
      " [ 1  0  0  1]\n",
      " [ 1  1 -1  1]\n",
      " [ 1  0  0  1]\n",
      " [-1  1  0  0]\n",
      " [ 0  0  1  1]\n",
      " [ 1  1  0  1]\n",
      " [ 1  0  0  1]\n",
      " [ 1  0  0  1]\n",
      " [ 0  0  0  0]\n",
      " [ 0  0  0  0]\n",
      " [ 0  0  0  0]\n",
      " [ 0  0  0  0]\n",
      " [ 1  1  0  1]\n",
      " [-1  1  0  0]]\n",
      "13 (30,)\n"
     ]
    }
   ],
   "source": [
    "pred = model.predict(x_test)\n",
    "print(np.concat([pred-y_test, np.sum(pred-y_test, axis=1).reshape(-1, 1) != 0 ], axis=1))\n",
    "print(np.count_nonzero(np.sum(pred-y_test, axis=1).reshape(-1, 1) != 0), np.sum(pred-y_test, axis=1).shape)"
   ]
  }
 ],
 "metadata": {
  "kernelspec": {
   "display_name": "venv",
   "language": "python",
   "name": "python3"
  },
  "language_info": {
   "codemirror_mode": {
    "name": "ipython",
    "version": 3
   },
   "file_extension": ".py",
   "mimetype": "text/x-python",
   "name": "python",
   "nbconvert_exporter": "python",
   "pygments_lexer": "ipython3",
   "version": "3.12.3"
  }
 },
 "nbformat": 4,
 "nbformat_minor": 2
}
